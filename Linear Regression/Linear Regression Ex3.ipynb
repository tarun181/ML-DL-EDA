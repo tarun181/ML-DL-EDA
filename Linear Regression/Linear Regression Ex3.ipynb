{
 "cells": [
  {
   "cell_type": "code",
   "execution_count": 1,
   "id": "410030ab",
   "metadata": {},
   "outputs": [],
   "source": [
    "import pandas as pd\n",
    "import numpy as np\n",
    "from sklearn.linear_model import LinearRegression"
   ]
  },
  {
   "cell_type": "code",
   "execution_count": 2,
   "id": "3494df21",
   "metadata": {},
   "outputs": [
    {
     "data": {
      "text/html": [
       "<div>\n",
       "<style scoped>\n",
       "    .dataframe tbody tr th:only-of-type {\n",
       "        vertical-align: middle;\n",
       "    }\n",
       "\n",
       "    .dataframe tbody tr th {\n",
       "        vertical-align: top;\n",
       "    }\n",
       "\n",
       "    .dataframe thead th {\n",
       "        text-align: right;\n",
       "    }\n",
       "</style>\n",
       "<table border=\"1\" class=\"dataframe\">\n",
       "  <thead>\n",
       "    <tr style=\"text-align: right;\">\n",
       "      <th></th>\n",
       "      <th>x</th>\n",
       "      <th>y</th>\n",
       "    </tr>\n",
       "  </thead>\n",
       "  <tbody>\n",
       "    <tr>\n",
       "      <th>0</th>\n",
       "      <td>24.0</td>\n",
       "      <td>21.549452</td>\n",
       "    </tr>\n",
       "    <tr>\n",
       "      <th>1</th>\n",
       "      <td>50.0</td>\n",
       "      <td>47.464463</td>\n",
       "    </tr>\n",
       "    <tr>\n",
       "      <th>2</th>\n",
       "      <td>15.0</td>\n",
       "      <td>17.218656</td>\n",
       "    </tr>\n",
       "    <tr>\n",
       "      <th>3</th>\n",
       "      <td>38.0</td>\n",
       "      <td>36.586398</td>\n",
       "    </tr>\n",
       "    <tr>\n",
       "      <th>4</th>\n",
       "      <td>87.0</td>\n",
       "      <td>87.288984</td>\n",
       "    </tr>\n",
       "    <tr>\n",
       "      <th>...</th>\n",
       "      <td>...</td>\n",
       "      <td>...</td>\n",
       "    </tr>\n",
       "    <tr>\n",
       "      <th>695</th>\n",
       "      <td>58.0</td>\n",
       "      <td>58.595006</td>\n",
       "    </tr>\n",
       "    <tr>\n",
       "      <th>696</th>\n",
       "      <td>93.0</td>\n",
       "      <td>94.625094</td>\n",
       "    </tr>\n",
       "    <tr>\n",
       "      <th>697</th>\n",
       "      <td>82.0</td>\n",
       "      <td>88.603770</td>\n",
       "    </tr>\n",
       "    <tr>\n",
       "      <th>698</th>\n",
       "      <td>66.0</td>\n",
       "      <td>63.648685</td>\n",
       "    </tr>\n",
       "    <tr>\n",
       "      <th>699</th>\n",
       "      <td>97.0</td>\n",
       "      <td>94.975266</td>\n",
       "    </tr>\n",
       "  </tbody>\n",
       "</table>\n",
       "<p>700 rows × 2 columns</p>\n",
       "</div>"
      ],
      "text/plain": [
       "        x          y\n",
       "0    24.0  21.549452\n",
       "1    50.0  47.464463\n",
       "2    15.0  17.218656\n",
       "3    38.0  36.586398\n",
       "4    87.0  87.288984\n",
       "..    ...        ...\n",
       "695  58.0  58.595006\n",
       "696  93.0  94.625094\n",
       "697  82.0  88.603770\n",
       "698  66.0  63.648685\n",
       "699  97.0  94.975266\n",
       "\n",
       "[700 rows x 2 columns]"
      ]
     },
     "execution_count": 2,
     "metadata": {},
     "output_type": "execute_result"
    }
   ],
   "source": [
    "df_train = pd.read_csv('train.csv')\n",
    "df_train"
   ]
  },
  {
   "cell_type": "code",
   "execution_count": 3,
   "id": "bad7abd7",
   "metadata": {},
   "outputs": [
    {
     "data": {
      "text/html": [
       "<div>\n",
       "<style scoped>\n",
       "    .dataframe tbody tr th:only-of-type {\n",
       "        vertical-align: middle;\n",
       "    }\n",
       "\n",
       "    .dataframe tbody tr th {\n",
       "        vertical-align: top;\n",
       "    }\n",
       "\n",
       "    .dataframe thead th {\n",
       "        text-align: right;\n",
       "    }\n",
       "</style>\n",
       "<table border=\"1\" class=\"dataframe\">\n",
       "  <thead>\n",
       "    <tr style=\"text-align: right;\">\n",
       "      <th></th>\n",
       "      <th>x</th>\n",
       "      <th>y</th>\n",
       "    </tr>\n",
       "  </thead>\n",
       "  <tbody>\n",
       "    <tr>\n",
       "      <th>0</th>\n",
       "      <td>77</td>\n",
       "      <td>79.775152</td>\n",
       "    </tr>\n",
       "    <tr>\n",
       "      <th>1</th>\n",
       "      <td>21</td>\n",
       "      <td>23.177279</td>\n",
       "    </tr>\n",
       "    <tr>\n",
       "      <th>2</th>\n",
       "      <td>22</td>\n",
       "      <td>25.609262</td>\n",
       "    </tr>\n",
       "    <tr>\n",
       "      <th>3</th>\n",
       "      <td>20</td>\n",
       "      <td>17.857388</td>\n",
       "    </tr>\n",
       "    <tr>\n",
       "      <th>4</th>\n",
       "      <td>36</td>\n",
       "      <td>41.849864</td>\n",
       "    </tr>\n",
       "    <tr>\n",
       "      <th>...</th>\n",
       "      <td>...</td>\n",
       "      <td>...</td>\n",
       "    </tr>\n",
       "    <tr>\n",
       "      <th>295</th>\n",
       "      <td>71</td>\n",
       "      <td>68.545888</td>\n",
       "    </tr>\n",
       "    <tr>\n",
       "      <th>296</th>\n",
       "      <td>46</td>\n",
       "      <td>47.334876</td>\n",
       "    </tr>\n",
       "    <tr>\n",
       "      <th>297</th>\n",
       "      <td>55</td>\n",
       "      <td>54.090637</td>\n",
       "    </tr>\n",
       "    <tr>\n",
       "      <th>298</th>\n",
       "      <td>62</td>\n",
       "      <td>63.297171</td>\n",
       "    </tr>\n",
       "    <tr>\n",
       "      <th>299</th>\n",
       "      <td>47</td>\n",
       "      <td>52.459467</td>\n",
       "    </tr>\n",
       "  </tbody>\n",
       "</table>\n",
       "<p>300 rows × 2 columns</p>\n",
       "</div>"
      ],
      "text/plain": [
       "      x          y\n",
       "0    77  79.775152\n",
       "1    21  23.177279\n",
       "2    22  25.609262\n",
       "3    20  17.857388\n",
       "4    36  41.849864\n",
       "..   ..        ...\n",
       "295  71  68.545888\n",
       "296  46  47.334876\n",
       "297  55  54.090637\n",
       "298  62  63.297171\n",
       "299  47  52.459467\n",
       "\n",
       "[300 rows x 2 columns]"
      ]
     },
     "execution_count": 3,
     "metadata": {},
     "output_type": "execute_result"
    }
   ],
   "source": [
    "df_test = pd.read_csv('test.csv')\n",
    "df_test"
   ]
  },
  {
   "cell_type": "code",
   "execution_count": 4,
   "id": "0ff019c7",
   "metadata": {},
   "outputs": [
    {
     "data": {
      "text/html": [
       "<div>\n",
       "<style scoped>\n",
       "    .dataframe tbody tr th:only-of-type {\n",
       "        vertical-align: middle;\n",
       "    }\n",
       "\n",
       "    .dataframe tbody tr th {\n",
       "        vertical-align: top;\n",
       "    }\n",
       "\n",
       "    .dataframe thead th {\n",
       "        text-align: right;\n",
       "    }\n",
       "</style>\n",
       "<table border=\"1\" class=\"dataframe\">\n",
       "  <thead>\n",
       "    <tr style=\"text-align: right;\">\n",
       "      <th></th>\n",
       "      <th>x</th>\n",
       "      <th>y</th>\n",
       "    </tr>\n",
       "  </thead>\n",
       "  <tbody>\n",
       "    <tr>\n",
       "      <th>0</th>\n",
       "      <td>24.0</td>\n",
       "      <td>21.549452</td>\n",
       "    </tr>\n",
       "    <tr>\n",
       "      <th>1</th>\n",
       "      <td>50.0</td>\n",
       "      <td>47.464463</td>\n",
       "    </tr>\n",
       "    <tr>\n",
       "      <th>2</th>\n",
       "      <td>15.0</td>\n",
       "      <td>17.218656</td>\n",
       "    </tr>\n",
       "    <tr>\n",
       "      <th>3</th>\n",
       "      <td>38.0</td>\n",
       "      <td>36.586398</td>\n",
       "    </tr>\n",
       "    <tr>\n",
       "      <th>4</th>\n",
       "      <td>87.0</td>\n",
       "      <td>87.288984</td>\n",
       "    </tr>\n",
       "  </tbody>\n",
       "</table>\n",
       "</div>"
      ],
      "text/plain": [
       "      x          y\n",
       "0  24.0  21.549452\n",
       "1  50.0  47.464463\n",
       "2  15.0  17.218656\n",
       "3  38.0  36.586398\n",
       "4  87.0  87.288984"
      ]
     },
     "execution_count": 4,
     "metadata": {},
     "output_type": "execute_result"
    }
   ],
   "source": [
    "df_train.head()"
   ]
  },
  {
   "cell_type": "code",
   "execution_count": 16,
   "id": "a8b80169",
   "metadata": {},
   "outputs": [
    {
     "data": {
      "text/plain": [
       "x    False\n",
       "y     True\n",
       "dtype: bool"
      ]
     },
     "execution_count": 16,
     "metadata": {},
     "output_type": "execute_result"
    }
   ],
   "source": [
    "df_train.isnull().any()"
   ]
  },
  {
   "cell_type": "code",
   "execution_count": 17,
   "id": "5c9fd91b",
   "metadata": {},
   "outputs": [
    {
     "name": "stdout",
     "output_type": "stream",
     "text": [
      "<class 'pandas.core.frame.DataFrame'>\n",
      "RangeIndex: 700 entries, 0 to 699\n",
      "Data columns (total 2 columns):\n",
      " #   Column  Non-Null Count  Dtype  \n",
      "---  ------  --------------  -----  \n",
      " 0   x       700 non-null    float64\n",
      " 1   y       699 non-null    float64\n",
      "dtypes: float64(2)\n",
      "memory usage: 11.1 KB\n"
     ]
    }
   ],
   "source": [
    "df_train.info()"
   ]
  },
  {
   "cell_type": "code",
   "execution_count": 18,
   "id": "0258df4b",
   "metadata": {},
   "outputs": [],
   "source": [
    "import matplotlib.pyplot as plt"
   ]
  },
  {
   "cell_type": "code",
   "execution_count": 21,
   "id": "46b762fd",
   "metadata": {},
   "outputs": [
    {
     "data": {
      "text/plain": [
       "[<matplotlib.lines.Line2D at 0x289ec845a50>]"
      ]
     },
     "execution_count": 21,
     "metadata": {},
     "output_type": "execute_result"
    },
    {
     "data": {
      "image/png": "[encoded data removed]",
      "text/plain": [
       "<Figure size 432x288 with 1 Axes>"
      ]
     },
     "metadata": {
      "needs_background": "light"
     },
     "output_type": "display_data"
    }
   ],
   "source": [
    "plt.plot(df_train['x'])"
   ]
  },
  {
   "cell_type": "code",
   "execution_count": 23,
   "id": "7d3e610c",
   "metadata": {},
   "outputs": [],
   "source": [
    "import seaborn as sns"
   ]
  },
  {
   "cell_type": "code",
   "execution_count": 25,
   "id": "4cb8132d",
   "metadata": {},
   "outputs": [
    {
     "name": "stderr",
     "output_type": "stream",
     "text": [
      "C:\\Python3.10\\lib\\site-packages\\seaborn\\_decorators.py:36: FutureWarning: Pass the following variable as a keyword arg: x. From version 0.12, the only valid positional argument will be `data`, and passing other arguments without an explicit keyword will result in an error or misinterpretation.\n",
      "  warnings.warn(\n"
     ]
    },
    {
     "data": {
      "text/plain": [
       "<AxesSubplot:xlabel='x'>"
      ]
     },
     "execution_count": 25,
     "metadata": {},
     "output_type": "execute_result"
    },
    {
     "data": {
      "image/png": "[encoded data removed]",
      "text/plain": [
       "<Figure size 432x288 with 1 Axes>"
      ]
     },
     "metadata": {
      "needs_background": "light"
     },
     "output_type": "display_data"
    }
   ],
   "source": [
    "sns.boxplot(df_train['x'])"
   ]
  },
  {
   "cell_type": "markdown",
   "id": "b6d27d4f",
   "metadata": {},
   "source": [
    "# These 2 graphs shows there is a outlier at 3500"
   ]
  },
  {
   "cell_type": "code",
   "execution_count": 27,
   "id": "14f3d122",
   "metadata": {},
   "outputs": [],
   "source": [
    "df_train['x'] = df_train['x'].clip(upper=df_train['x'].quantile(0.99))\n",
    "df_train['x'] = df_train['x'].clip(lower=df_train['x'].quantile(0.01))\n",
    "df_train['y'] = df_train['x'].clip(upper=df_train['y'].quantile(0.99))\n",
    "df_train['y'] = df_train['x'].clip(lower=df_train['y'].quantile(0.01))"
   ]
  },
  {
   "cell_type": "code",
   "execution_count": 28,
   "id": "4f52df23",
   "metadata": {},
   "outputs": [
    {
     "data": {
      "text/html": [
       "<div>\n",
       "<style scoped>\n",
       "    .dataframe tbody tr th:only-of-type {\n",
       "        vertical-align: middle;\n",
       "    }\n",
       "\n",
       "    .dataframe tbody tr th {\n",
       "        vertical-align: top;\n",
       "    }\n",
       "\n",
       "    .dataframe thead th {\n",
       "        text-align: right;\n",
       "    }\n",
       "</style>\n",
       "<table border=\"1\" class=\"dataframe\">\n",
       "  <thead>\n",
       "    <tr style=\"text-align: right;\">\n",
       "      <th></th>\n",
       "      <th>x</th>\n",
       "      <th>y</th>\n",
       "    </tr>\n",
       "  </thead>\n",
       "  <tbody>\n",
       "    <tr>\n",
       "      <th>0</th>\n",
       "      <td>24.0</td>\n",
       "      <td>24.0</td>\n",
       "    </tr>\n",
       "    <tr>\n",
       "      <th>1</th>\n",
       "      <td>50.0</td>\n",
       "      <td>50.0</td>\n",
       "    </tr>\n",
       "    <tr>\n",
       "      <th>2</th>\n",
       "      <td>15.0</td>\n",
       "      <td>15.0</td>\n",
       "    </tr>\n",
       "    <tr>\n",
       "      <th>3</th>\n",
       "      <td>38.0</td>\n",
       "      <td>38.0</td>\n",
       "    </tr>\n",
       "    <tr>\n",
       "      <th>4</th>\n",
       "      <td>87.0</td>\n",
       "      <td>87.0</td>\n",
       "    </tr>\n",
       "  </tbody>\n",
       "</table>\n",
       "</div>"
      ],
      "text/plain": [
       "      x     y\n",
       "0  24.0  24.0\n",
       "1  50.0  50.0\n",
       "2  15.0  15.0\n",
       "3  38.0  38.0\n",
       "4  87.0  87.0"
      ]
     },
     "execution_count": 28,
     "metadata": {},
     "output_type": "execute_result"
    }
   ],
   "source": [
    "df_train.head()"
   ]
  },
  {
   "cell_type": "code",
   "execution_count": 30,
   "id": "57bcd44d",
   "metadata": {},
   "outputs": [
    {
     "data": {
      "text/plain": [
       "x    False\n",
       "y    False\n",
       "dtype: bool"
      ]
     },
     "execution_count": 30,
     "metadata": {},
     "output_type": "execute_result"
    }
   ],
   "source": [
    "df_train.isnull().any()"
   ]
  },
  {
   "cell_type": "code",
   "execution_count": 31,
   "id": "3be26dba",
   "metadata": {},
   "outputs": [
    {
     "data": {
      "text/plain": [
       "[<matplotlib.lines.Line2D at 0x289ec79fc70>]"
      ]
     },
     "execution_count": 31,
     "metadata": {},
     "output_type": "execute_result"
    },
    {
     "data": {
      "image/png": "[encoded data removed]",
      "text/plain": [
       "<Figure size 432x288 with 1 Axes>"
      ]
     },
     "metadata": {
      "needs_background": "light"
     },
     "output_type": "display_data"
    }
   ],
   "source": [
    "plt.plot(df_train['x'])"
   ]
  },
  {
   "cell_type": "code",
   "execution_count": 32,
   "id": "4b234a67",
   "metadata": {},
   "outputs": [
    {
     "name": "stderr",
     "output_type": "stream",
     "text": [
      "C:\\Python3.10\\lib\\site-packages\\seaborn\\_decorators.py:36: FutureWarning: Pass the following variable as a keyword arg: x. From version 0.12, the only valid positional argument will be `data`, and passing other arguments without an explicit keyword will result in an error or misinterpretation.\n",
      "  warnings.warn(\n"
     ]
    },
    {
     "data": {
      "text/plain": [
       "<AxesSubplot:xlabel='x'>"
      ]
     },
     "execution_count": 32,
     "metadata": {},
     "output_type": "execute_result"
    },
    {
     "data": {
      "image/png": "[encoded data removed]",
      "text/plain": [
       "<Figure size 432x288 with 1 Axes>"
      ]
     },
     "metadata": {
      "needs_background": "light"
     },
     "output_type": "display_data"
    }
   ],
   "source": [
    "sns.boxplot(df_train['x'])"
   ]
  },
  {
   "cell_type": "code",
   "execution_count": 34,
   "id": "af4f2d6d",
   "metadata": {},
   "outputs": [],
   "source": [
    "df_train['x'] = df_train['x'].clip(upper=df_train['x'].quantile(0.99))\n",
    "df_train['x'] = df_train['x'].clip(lower=df_train['x'].quantile(0.01))\n",
    "df_train['y'] = df_train['x'].clip(upper=df_train['y'].quantile(0.99))\n",
    "df_train['y'] = df_train['x'].clip(lower=df_train['y'].quantile(0.01))"
   ]
  },
  {
   "cell_type": "code",
   "execution_count": 35,
   "id": "fc643731",
   "metadata": {},
   "outputs": [],
   "source": [
    "X_train = df_train.iloc[:,:-1].values\n",
    "y_train = df_train.iloc[:,-1].values\n",
    "X_test = df_test.iloc[:,:-1].values\n",
    "y_test = df_test.iloc[:,-1].values"
   ]
  },
  {
   "cell_type": "code",
   "execution_count": 36,
   "id": "e2bbc3a4",
   "metadata": {},
   "outputs": [],
   "source": [
    "model = LinearRegression()"
   ]
  },
  {
   "cell_type": "code",
   "execution_count": 37,
   "id": "d84b827d",
   "metadata": {},
   "outputs": [
    {
     "data": {
      "text/plain": [
       "LinearRegression()"
      ]
     },
     "execution_count": 37,
     "metadata": {},
     "output_type": "execute_result"
    }
   ],
   "source": [
    "model.fit(X_test,y_test)"
   ]
  },
  {
   "cell_type": "code",
   "execution_count": 38,
   "id": "8bfb0eee",
   "metadata": {},
   "outputs": [
    {
     "data": {
      "text/plain": [
       "0.9891203611402716"
      ]
     },
     "execution_count": 38,
     "metadata": {},
     "output_type": "execute_result"
    }
   ],
   "source": [
    "model.score(X_test,y_test)"
   ]
  },
  {
   "cell_type": "code",
   "execution_count": 42,
   "id": "3cdaec83",
   "metadata": {
    "scrolled": true
   },
   "outputs": [
    {
     "data": {
      "text/plain": [
       "array([ 77.64201157,  20.83923168,  21.85356704,  19.82489633,\n",
       "        36.05426201,  14.75321955,  62.42698124,  95.90004796,\n",
       "        19.82489633,   4.609866  ,   3.59553065,  18.81056097,\n",
       "        96.91438332,  62.42698124,  36.05426201,  14.75321955,\n",
       "        65.46998731,  13.7388842 ,  87.78536512,  69.52732873,\n",
       "        89.81403583,  51.26929234,  89.81403583,  26.92524381,\n",
       "        97.92871867,  58.36963982,  79.67068228,  20.83923168,\n",
       "        93.87137725,  26.92524381,  99.95738938,  30.98258524,\n",
       "        33.01125595,  80.68501764,  27.93957917,  47.21195092,\n",
       "        53.29796305,  69.52732873,  27.93957917,  33.01125595,\n",
       "        91.84270654,  71.55599944,  50.25495698,  76.62767622,\n",
       "         3.59553065,  37.06859737,  70.54166408,  68.51299337,\n",
       "        40.11160343,  35.03992666,  94.88571261,  88.79970048,\n",
       "        52.28362769,  30.98258524,  59.38397518,  -0.46181077,\n",
       "        39.09726808,  64.45565195,  69.52732873,  57.35530447,\n",
       "        12.72454884,  72.57033479,  76.62767622,  61.41264589,\n",
       "        82.71368835,  17.79622562,  41.12593879,  50.25495698,\n",
       "        55.32663376,  12.72454884,  46.19761556,  12.72454884,\n",
       "        79.67068228,  53.29796305,  14.75321955,  27.93957917,\n",
       "        81.69935299,  69.52732873,  52.28362769,  84.74235906,\n",
       "        68.51299337,  26.92524381,  56.34096911,  48.22628627,\n",
       "        40.11160343,  39.09726808,  82.71368835, 100.97172474,\n",
       "        59.38397518,  43.1546095 ,  67.49865802,  38.08293272,\n",
       "        63.4413166 ,  91.84270654,  60.39831053,  13.7388842 ,\n",
       "        20.83923168,  87.78536512,  73.58467015,  31.99692059,\n",
       "         1.56685994,  82.71368835,  18.81056097,  74.59900551,\n",
       "        42.14027414,  11.71021349,   0.55252458,  90.82837119,\n",
       "        89.81403583,  -0.46181077,  41.12593879,  15.76755491,\n",
       "        94.88571261,  97.92871867,  66.48432266,  23.88223775,\n",
       "        16.78189026,  90.82837119,  12.72454884,  -0.46181077,\n",
       "        64.45565195,  96.91438332,  98.94305403,  11.71021349,\n",
       "        41.12593879,  47.21195092,  78.65634693,  19.82489633,\n",
       "        89.81403583,  28.95391452,  64.45565195,  75.61334086,\n",
       "        11.71021349,  24.8965731 ,  27.93957917,  29.96824988,\n",
       "        65.46998731,  59.38397518,  64.45565195,  53.29796305,\n",
       "        71.55599944,  97.92871867,  73.58467015,   8.66720742,\n",
       "        11.71021349,  63.4413166 ,  99.95738938,  60.39831053,\n",
       "        35.03992666,   1.56685994,  60.39831053,  31.99692059,\n",
       "        94.88571261,  84.74235906,  63.4413166 ,  21.85356704,\n",
       "        81.69935299,  93.87137725,  33.01125595,   6.63853671,\n",
       "        42.14027414,  46.19761556,  54.3122984 ,  15.76755491,\n",
       "        49.24062163,  43.1546095 ,  95.90004796,  66.48432266,\n",
       "        20.83923168,  35.03992666,  80.68501764,  37.06859737,\n",
       "        54.3122984 ,  56.34096911,   0.55252458,  31.99692059,\n",
       "        58.36963982,  31.99692059,  46.19761556,  72.57033479,\n",
       "        16.78189026,  97.92871867,  93.87137725,  91.84270654,\n",
       "        37.06859737,   3.59553065,  54.3122984 ,  51.26929234,\n",
       "        26.92524381,  46.19761556,  92.8570419 ,  73.58467015,\n",
       "        77.64201157,  91.84270654,  61.41264589,  99.95738938,\n",
       "         3.59553065,  72.57033479,  18.81056097,  57.35530447,\n",
       "        78.65634693,  25.91090846,  74.59900551,  90.82837119,\n",
       "        66.48432266,  12.72454884,  40.11160343,  77.64201157,\n",
       "        67.49865802,  75.61334086,  22.86790239,  45.18328021,\n",
       "        59.38397518,  44.16894485,  22.86790239,  55.32663376,\n",
       "        55.32663376,  95.90004796,  11.71021349,   3.59553065,\n",
       "         6.63853671, 100.97172474,  48.22628627,  42.14027414,\n",
       "        96.91438332,  39.09726808, 100.97172474,  87.78536512,\n",
       "        13.7388842 ,  13.7388842 ,  37.06859737,   4.609866  ,\n",
       "        88.79970048,  91.84270654,  65.46998731,  74.59900551,\n",
       "        56.34096911,  15.76755491,   4.609866  ,  27.93957917,\n",
       "        92.8570419 ,  46.19761556,  54.3122984 ,  39.09726808,\n",
       "        44.16894485,  30.98258524,  68.51299337,  86.77102977,\n",
       "        90.82837119,  38.08293272,  20.83923168,  95.90004796,\n",
       "        56.34096911,  60.39831053,  65.46998731,  78.65634693,\n",
       "        89.81403583,   5.62420136,  67.49865802,  36.05426201,\n",
       "        15.76755491, 100.97172474,  45.18328021,  73.58467015,\n",
       "        57.35530447,  19.82489633,  76.62767622,  34.0255913 ,\n",
       "        55.32663376,  72.57033479,  55.32663376,   7.65287207,\n",
       "        56.34096911,  72.57033479,  58.36963982,   5.62420136,\n",
       "        96.91438332,  22.86790239,  58.36963982,  22.86790239,\n",
       "        18.81056097,  24.8965731 ,  64.45565195,  20.83923168,\n",
       "        59.38397518,  18.81056097,  15.76755491,  42.14027414,\n",
       "        43.1546095 ,  61.41264589,  92.8570419 ,  10.69587813,\n",
       "        41.12593879,   0.55252458,   7.65287207,  71.55599944,\n",
       "        46.19761556,  55.32663376,  62.42698124,  47.21195092])"
      ]
     },
     "execution_count": 42,
     "metadata": {},
     "output_type": "execute_result"
    }
   ],
   "source": [
    "model.predict(X_test)"
   ]
  },
  {
   "cell_type": "code",
   "execution_count": null,
   "id": "a3b92d6c",
   "metadata": {},
   "outputs": [],
   "source": []
  }
 ],
 "metadata": {
  "kernelspec": {
   "display_name": "Python 3 (ipykernel)",
   "language": "python",
   "name": "python3"
  },
  "language_info": {
   "codemirror_mode": {
    "name": "ipython",
    "version": 3
   },
   "file_extension": ".py",
   "mimetype": "text/x-python",
   "name": "python",
   "nbconvert_exporter": "python",
   "pygments_lexer": "ipython3",
   "version": "3.10.3"
  }
 },
 "nbformat": 4,
 "nbformat_minor": 5
}
