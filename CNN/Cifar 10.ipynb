{
 "cells": [
  {
   "cell_type": "code",
   "execution_count": 1,
   "id": "16081d89",
   "metadata": {},
   "outputs": [],
   "source": [
    "import tensorflow as tf\n",
    "from tensorflow.keras import datasets , models , layers\n",
    "import matplotlib.pyplot as plt\n",
    "import numpy as np"
   ]
  },
  {
   "cell_type": "markdown",
   "id": "ebd4405c",
   "metadata": {},
   "source": [
    "# Load Dataset"
   ]
  },
  {
   "cell_type": "code",
   "execution_count": 2,
   "id": "225cd6dd",
   "metadata": {},
   "outputs": [
    {
     "data": {
      "text/plain": [
       "(50000, 32, 32, 3)"
      ]
     },
     "execution_count": 2,
     "metadata": {},
     "output_type": "execute_result"
    }
   ],
   "source": [
    "(X_train, y_train), (X_test,y_test) = datasets.cifar10.load_data()\n",
    "X_train.shape"
   ]
  },
  {
   "cell_type": "code",
   "execution_count": 3,
   "id": "27aefd6d",
   "metadata": {
    "scrolled": true
   },
   "outputs": [
    {
     "data": {
      "text/plain": [
       "(10000, 32, 32, 3)"
      ]
     },
     "execution_count": 3,
     "metadata": {},
     "output_type": "execute_result"
    }
   ],
   "source": [
    "X_test.shape"
   ]
  },
  {
   "cell_type": "code",
   "execution_count": 4,
   "id": "44f5ff69",
   "metadata": {},
   "outputs": [
    {
     "data": {
      "text/plain": [
       "<matplotlib.image.AxesImage at 0x27e0f1c0970>"
      ]
     },
     "execution_count": 4,
     "metadata": {},
     "output_type": "execute_result"
    },
    {
     "data": {
      "image/png": "[encoded data removed]",
      "text/plain": [
       "<Figure size 1080x144 with 1 Axes>"
      ]
     },
     "metadata": {
      "needs_background": "light"
     },
     "output_type": "display_data"
    }
   ],
   "source": [
    "plt.figure(figsize=(15,2))\n",
    "plt.imshow(X_train[362])"
   ]
  },
  {
   "cell_type": "code",
   "execution_count": 5,
   "id": "7b19c804",
   "metadata": {},
   "outputs": [
    {
     "data": {
      "text/plain": [
       "<matplotlib.image.AxesImage at 0x27e0f2b2ca0>"
      ]
     },
     "execution_count": 5,
     "metadata": {},
     "output_type": "execute_result"
    },
    {
     "data": {
      "image/png": "[encoded data removed]",
      "text/plain": [
       "<Figure size 1080x144 with 1 Axes>"
      ]
     },
     "metadata": {
      "needs_background": "light"
     },
     "output_type": "display_data"
    }
   ],
   "source": [
    "plt.figure(figsize=(15,2))\n",
    "plt.imshow(X_train[32])"
   ]
  },
  {
   "cell_type": "code",
   "execution_count": 6,
   "id": "11be7a2e",
   "metadata": {},
   "outputs": [
    {
     "data": {
      "text/plain": [
       "<matplotlib.image.AxesImage at 0x27e0f319700>"
      ]
     },
     "execution_count": 6,
     "metadata": {},
     "output_type": "execute_result"
    },
    {
     "data": {
      "image/png": "[encoded data removed]",
      "text/plain": [
       "<Figure size 1080x144 with 1 Axes>"
      ]
     },
     "metadata": {
      "needs_background": "light"
     },
     "output_type": "display_data"
    }
   ],
   "source": [
    "plt.figure(figsize=(15,2))\n",
    "plt.imshow(X_train[1243])"
   ]
  },
  {
   "cell_type": "markdown",
   "id": "7d7617f2",
   "metadata": {},
   "source": [
    "# Pre procssing the training data"
   ]
  },
  {
   "cell_type": "code",
   "execution_count": 7,
   "id": "71a28307",
   "metadata": {
    "scrolled": true
   },
   "outputs": [
    {
     "data": {
      "text/plain": [
       "array([[[ 59,  62,  63],\n",
       "        [ 43,  46,  45],\n",
       "        [ 50,  48,  43],\n",
       "        ...,\n",
       "        [158, 132, 108],\n",
       "        [152, 125, 102],\n",
       "        [148, 124, 103]],\n",
       "\n",
       "       [[ 16,  20,  20],\n",
       "        [  0,   0,   0],\n",
       "        [ 18,   8,   0],\n",
       "        ...,\n",
       "        [123,  88,  55],\n",
       "        [119,  83,  50],\n",
       "        [122,  87,  57]],\n",
       "\n",
       "       [[ 25,  24,  21],\n",
       "        [ 16,   7,   0],\n",
       "        [ 49,  27,   8],\n",
       "        ...,\n",
       "        [118,  84,  50],\n",
       "        [120,  84,  50],\n",
       "        [109,  73,  42]],\n",
       "\n",
       "       ...,\n",
       "\n",
       "       [[208, 170,  96],\n",
       "        [201, 153,  34],\n",
       "        [198, 161,  26],\n",
       "        ...,\n",
       "        [160, 133,  70],\n",
       "        [ 56,  31,   7],\n",
       "        [ 53,  34,  20]],\n",
       "\n",
       "       [[180, 139,  96],\n",
       "        [173, 123,  42],\n",
       "        [186, 144,  30],\n",
       "        ...,\n",
       "        [184, 148,  94],\n",
       "        [ 97,  62,  34],\n",
       "        [ 83,  53,  34]],\n",
       "\n",
       "       [[177, 144, 116],\n",
       "        [168, 129,  94],\n",
       "        [179, 142,  87],\n",
       "        ...,\n",
       "        [216, 184, 140],\n",
       "        [151, 118,  84],\n",
       "        [123,  92,  72]]], dtype=uint8)"
      ]
     },
     "execution_count": 7,
     "metadata": {},
     "output_type": "execute_result"
    }
   ],
   "source": [
    "X_train[0]"
   ]
  },
  {
   "cell_type": "code",
   "execution_count": 8,
   "id": "62cad175",
   "metadata": {},
   "outputs": [],
   "source": [
    "X_train = X_train/255\n",
    "X_test = X_test/255"
   ]
  },
  {
   "cell_type": "code",
   "execution_count": 9,
   "id": "18011c46",
   "metadata": {
    "scrolled": true
   },
   "outputs": [
    {
     "data": {
      "text/plain": [
       "array([[[0.23137255, 0.24313725, 0.24705882],\n",
       "        [0.16862745, 0.18039216, 0.17647059],\n",
       "        [0.19607843, 0.18823529, 0.16862745],\n",
       "        ...,\n",
       "        [0.61960784, 0.51764706, 0.42352941],\n",
       "        [0.59607843, 0.49019608, 0.4       ],\n",
       "        [0.58039216, 0.48627451, 0.40392157]],\n",
       "\n",
       "       [[0.0627451 , 0.07843137, 0.07843137],\n",
       "        [0.        , 0.        , 0.        ],\n",
       "        [0.07058824, 0.03137255, 0.        ],\n",
       "        ...,\n",
       "        [0.48235294, 0.34509804, 0.21568627],\n",
       "        [0.46666667, 0.3254902 , 0.19607843],\n",
       "        [0.47843137, 0.34117647, 0.22352941]],\n",
       "\n",
       "       [[0.09803922, 0.09411765, 0.08235294],\n",
       "        [0.0627451 , 0.02745098, 0.        ],\n",
       "        [0.19215686, 0.10588235, 0.03137255],\n",
       "        ...,\n",
       "        [0.4627451 , 0.32941176, 0.19607843],\n",
       "        [0.47058824, 0.32941176, 0.19607843],\n",
       "        [0.42745098, 0.28627451, 0.16470588]],\n",
       "\n",
       "       ...,\n",
       "\n",
       "       [[0.81568627, 0.66666667, 0.37647059],\n",
       "        [0.78823529, 0.6       , 0.13333333],\n",
       "        [0.77647059, 0.63137255, 0.10196078],\n",
       "        ...,\n",
       "        [0.62745098, 0.52156863, 0.2745098 ],\n",
       "        [0.21960784, 0.12156863, 0.02745098],\n",
       "        [0.20784314, 0.13333333, 0.07843137]],\n",
       "\n",
       "       [[0.70588235, 0.54509804, 0.37647059],\n",
       "        [0.67843137, 0.48235294, 0.16470588],\n",
       "        [0.72941176, 0.56470588, 0.11764706],\n",
       "        ...,\n",
       "        [0.72156863, 0.58039216, 0.36862745],\n",
       "        [0.38039216, 0.24313725, 0.13333333],\n",
       "        [0.3254902 , 0.20784314, 0.13333333]],\n",
       "\n",
       "       [[0.69411765, 0.56470588, 0.45490196],\n",
       "        [0.65882353, 0.50588235, 0.36862745],\n",
       "        [0.70196078, 0.55686275, 0.34117647],\n",
       "        ...,\n",
       "        [0.84705882, 0.72156863, 0.54901961],\n",
       "        [0.59215686, 0.4627451 , 0.32941176],\n",
       "        [0.48235294, 0.36078431, 0.28235294]]])"
      ]
     },
     "execution_count": 9,
     "metadata": {},
     "output_type": "execute_result"
    }
   ],
   "source": [
    "X_train[0]"
   ]
  },
  {
   "cell_type": "code",
   "execution_count": 10,
   "id": "764c4889",
   "metadata": {},
   "outputs": [
    {
     "data": {
      "text/plain": [
       "array([[6],\n",
       "       [9],\n",
       "       [9],\n",
       "       ...,\n",
       "       [9],\n",
       "       [1],\n",
       "       [1]], dtype=uint8)"
      ]
     },
     "execution_count": 10,
     "metadata": {},
     "output_type": "execute_result"
    }
   ],
   "source": [
    "y_train"
   ]
  },
  {
   "cell_type": "markdown",
   "id": "a6a232ac",
   "metadata": {},
   "source": [
    "# Its a 2D array we have to convert it into a 1D array"
   ]
  },
  {
   "cell_type": "code",
   "execution_count": 11,
   "id": "3ec6864c",
   "metadata": {},
   "outputs": [
    {
     "data": {
      "text/plain": [
       "array([6, 9, 9, ..., 9, 1, 1], dtype=uint8)"
      ]
     },
     "execution_count": 11,
     "metadata": {},
     "output_type": "execute_result"
    }
   ],
   "source": [
    "y_train = y_train.reshape(-1,)\n",
    "y_train"
   ]
  },
  {
   "cell_type": "code",
   "execution_count": 12,
   "id": "c73061c6",
   "metadata": {},
   "outputs": [],
   "source": [
    "y_test = y_test.reshape(-1,)"
   ]
  },
  {
   "cell_type": "code",
   "execution_count": 13,
   "id": "95761852",
   "metadata": {},
   "outputs": [
    {
     "data": {
      "text/plain": [
       "[PhysicalDevice(name='/physical_device:CPU:0', device_type='CPU'),\n",
       " PhysicalDevice(name='/physical_device:GPU:0', device_type='GPU')]"
      ]
     },
     "execution_count": 13,
     "metadata": {},
     "output_type": "execute_result"
    }
   ],
   "source": [
    "tf.config.list_physical_devices()"
   ]
  },
  {
   "cell_type": "code",
   "execution_count": 18,
   "id": "9915bbea",
   "metadata": {
    "scrolled": false
   },
   "outputs": [
    {
     "name": "stdout",
     "output_type": "stream",
     "text": [
      "Epoch 1/100\n",
      "1563/1563 [==============================] - 18s 10ms/step - loss: 1.6601 - accuracy: 0.3850\n",
      "Epoch 2/100\n",
      "1563/1563 [==============================] - 15s 10ms/step - loss: 1.2831 - accuracy: 0.5407\n",
      "Epoch 3/100\n",
      "1563/1563 [==============================] - 16s 10ms/step - loss: 1.1423 - accuracy: 0.5969\n",
      "Epoch 4/100\n",
      "1563/1563 [==============================] - 16s 10ms/step - loss: 1.0540 - accuracy: 0.6311\n",
      "Epoch 5/100\n",
      "1563/1563 [==============================] - 16s 10ms/step - loss: 0.9890 - accuracy: 0.6573\n",
      "Epoch 6/100\n",
      "1563/1563 [==============================] - 17s 11ms/step - loss: 0.9339 - accuracy: 0.6750\n",
      "Epoch 7/100\n",
      "1563/1563 [==============================] - 17s 11ms/step - loss: 0.8813 - accuracy: 0.6939\n",
      "Epoch 8/100\n",
      "1563/1563 [==============================] - 17s 11ms/step - loss: 0.8337 - accuracy: 0.7112\n",
      "Epoch 9/100\n",
      "1563/1563 [==============================] - 17s 11ms/step - loss: 0.8016 - accuracy: 0.7214\n",
      "Epoch 10/100\n",
      "1563/1563 [==============================] - 17s 11ms/step - loss: 0.7716 - accuracy: 0.7306\n",
      "Epoch 11/100\n",
      "1563/1563 [==============================] - 17s 11ms/step - loss: 0.7439 - accuracy: 0.7421\n",
      "Epoch 12/100\n",
      "1563/1563 [==============================] - 17s 11ms/step - loss: 0.7103 - accuracy: 0.7526\n",
      "Epoch 13/100\n",
      "1563/1563 [==============================] - 17s 11ms/step - loss: 0.6859 - accuracy: 0.7597\n",
      "Epoch 14/100\n",
      "1563/1563 [==============================] - 17s 11ms/step - loss: 0.6638 - accuracy: 0.7693\n",
      "Epoch 15/100\n",
      "1563/1563 [==============================] - 17s 11ms/step - loss: 0.6431 - accuracy: 0.7760\n",
      "Epoch 16/100\n",
      "1563/1563 [==============================] - 17s 11ms/step - loss: 0.6176 - accuracy: 0.7858\n",
      "Epoch 17/100\n",
      "1563/1563 [==============================] - 18s 12ms/step - loss: 0.5938 - accuracy: 0.7941\n",
      "Epoch 18/100\n",
      "1563/1563 [==============================] - 18s 12ms/step - loss: 0.5803 - accuracy: 0.7971\n",
      "Epoch 19/100\n",
      "1563/1563 [==============================] - 18s 12ms/step - loss: 0.5682 - accuracy: 0.8028\n",
      "Epoch 20/100\n",
      "1563/1563 [==============================] - 18s 11ms/step - loss: 0.5448 - accuracy: 0.8114\n",
      "Epoch 21/100\n",
      "1563/1563 [==============================] - 18s 11ms/step - loss: 0.5290 - accuracy: 0.8147\n",
      "Epoch 22/100\n",
      "1563/1563 [==============================] - 18s 11ms/step - loss: 0.5159 - accuracy: 0.8211\n",
      "Epoch 23/100\n",
      "1563/1563 [==============================] - 18s 11ms/step - loss: 0.4918 - accuracy: 0.8273\n",
      "Epoch 24/100\n",
      "1563/1563 [==============================] - 18s 11ms/step - loss: 0.4850 - accuracy: 0.8306\n",
      "Epoch 25/100\n",
      "1563/1563 [==============================] - 18s 11ms/step - loss: 0.4819 - accuracy: 0.8311\n",
      "Epoch 26/100\n",
      "1563/1563 [==============================] - 18s 11ms/step - loss: 0.4648 - accuracy: 0.8366\n",
      "Epoch 27/100\n",
      "1563/1563 [==============================] - 18s 11ms/step - loss: 0.4492 - accuracy: 0.8444\n",
      "Epoch 28/100\n",
      "1563/1563 [==============================] - 18s 11ms/step - loss: 0.4393 - accuracy: 0.8488\n",
      "Epoch 29/100\n",
      "1563/1563 [==============================] - 18s 11ms/step - loss: 0.4234 - accuracy: 0.8514\n",
      "Epoch 30/100\n",
      "1563/1563 [==============================] - 18s 11ms/step - loss: 0.4284 - accuracy: 0.8510\n",
      "Epoch 31/100\n",
      "1563/1563 [==============================] - 18s 11ms/step - loss: 0.4116 - accuracy: 0.8577\n",
      "Epoch 32/100\n",
      "1563/1563 [==============================] - 18s 11ms/step - loss: 0.4089 - accuracy: 0.8587\n",
      "Epoch 33/100\n",
      "1563/1563 [==============================] - 18s 11ms/step - loss: 0.3895 - accuracy: 0.8632\n",
      "Epoch 34/100\n",
      "1563/1563 [==============================] - 18s 11ms/step - loss: 0.3929 - accuracy: 0.8631\n",
      "Epoch 35/100\n",
      "1563/1563 [==============================] - 18s 11ms/step - loss: 0.3850 - accuracy: 0.8651\n",
      "Epoch 36/100\n",
      "1563/1563 [==============================] - 18s 11ms/step - loss: 0.3714 - accuracy: 0.8715\n",
      "Epoch 37/100\n",
      "1563/1563 [==============================] - 18s 11ms/step - loss: 0.3774 - accuracy: 0.8697\n",
      "Epoch 38/100\n",
      "1563/1563 [==============================] - 18s 11ms/step - loss: 0.3562 - accuracy: 0.8760\n",
      "Epoch 39/100\n",
      "1563/1563 [==============================] - 18s 11ms/step - loss: 0.3601 - accuracy: 0.8738\n",
      "Epoch 40/100\n",
      "1563/1563 [==============================] - 18s 11ms/step - loss: 0.3586 - accuracy: 0.8739\n",
      "Epoch 41/100\n",
      "1563/1563 [==============================] - 18s 11ms/step - loss: 0.3521 - accuracy: 0.8783\n",
      "Epoch 42/100\n",
      "1563/1563 [==============================] - 18s 11ms/step - loss: 0.3443 - accuracy: 0.8805\n",
      "Epoch 43/100\n",
      "1563/1563 [==============================] - 18s 11ms/step - loss: 0.3416 - accuracy: 0.8843\n",
      "Epoch 44/100\n",
      "1563/1563 [==============================] - 18s 11ms/step - loss: 0.3361 - accuracy: 0.8846\n",
      "Epoch 45/100\n",
      "1563/1563 [==============================] - 18s 11ms/step - loss: 0.3369 - accuracy: 0.8845\n",
      "Epoch 46/100\n",
      "1563/1563 [==============================] - 18s 11ms/step - loss: 0.3234 - accuracy: 0.8888\n",
      "Epoch 47/100\n",
      "1563/1563 [==============================] - 19s 12ms/step - loss: 0.3251 - accuracy: 0.8878\n",
      "Epoch 48/100\n",
      "1563/1563 [==============================] - 19s 12ms/step - loss: 0.3219 - accuracy: 0.8903\n",
      "Epoch 49/100\n",
      "1563/1563 [==============================] - 19s 12ms/step - loss: 0.3153 - accuracy: 0.8917\n",
      "Epoch 50/100\n",
      "1563/1563 [==============================] - 19s 12ms/step - loss: 0.3144 - accuracy: 0.8936\n",
      "Epoch 51/100\n",
      "1563/1563 [==============================] - 19s 12ms/step - loss: 0.3108 - accuracy: 0.8961\n",
      "Epoch 52/100\n",
      "1563/1563 [==============================] - 19s 12ms/step - loss: 0.2959 - accuracy: 0.8987\n",
      "Epoch 53/100\n",
      "1563/1563 [==============================] - 19s 12ms/step - loss: 0.3001 - accuracy: 0.8977\n",
      "Epoch 54/100\n",
      "1563/1563 [==============================] - 19s 12ms/step - loss: 0.2967 - accuracy: 0.8977\n",
      "Epoch 55/100\n",
      "1563/1563 [==============================] - 19s 12ms/step - loss: 0.3020 - accuracy: 0.8975\n",
      "Epoch 56/100\n",
      "1563/1563 [==============================] - 19s 12ms/step - loss: 0.2956 - accuracy: 0.8985\n",
      "Epoch 57/100\n",
      "1563/1563 [==============================] - 19s 12ms/step - loss: 0.2872 - accuracy: 0.9027\n",
      "Epoch 58/100\n",
      "1563/1563 [==============================] - 19s 12ms/step - loss: 0.2850 - accuracy: 0.9037\n",
      "Epoch 59/100\n",
      "1563/1563 [==============================] - 18s 12ms/step - loss: 0.2830 - accuracy: 0.9044\n",
      "Epoch 60/100\n",
      "1563/1563 [==============================] - 18s 12ms/step - loss: 0.2790 - accuracy: 0.9041\n",
      "Epoch 61/100\n",
      "1563/1563 [==============================] - 18s 11ms/step - loss: 0.2744 - accuracy: 0.9076\n",
      "Epoch 62/100\n",
      "1563/1563 [==============================] - 18s 11ms/step - loss: 0.2742 - accuracy: 0.9060\n",
      "Epoch 63/100\n",
      "1563/1563 [==============================] - 18s 11ms/step - loss: 0.2735 - accuracy: 0.9072\n",
      "Epoch 64/100\n",
      "1563/1563 [==============================] - 18s 11ms/step - loss: 0.2682 - accuracy: 0.9082\n",
      "Epoch 65/100\n",
      "1563/1563 [==============================] - 18s 11ms/step - loss: 0.2687 - accuracy: 0.9105\n",
      "Epoch 66/100\n",
      "1563/1563 [==============================] - 18s 11ms/step - loss: 0.2660 - accuracy: 0.9106\n",
      "Epoch 67/100\n",
      "1563/1563 [==============================] - 18s 12ms/step - loss: 0.2629 - accuracy: 0.9097\n",
      "Epoch 68/100\n",
      "1563/1563 [==============================] - 18s 12ms/step - loss: 0.2604 - accuracy: 0.9096\n",
      "Epoch 69/100\n",
      "1563/1563 [==============================] - 18s 12ms/step - loss: 0.2645 - accuracy: 0.9110\n",
      "Epoch 70/100\n",
      "1563/1563 [==============================] - 18s 12ms/step - loss: 0.2559 - accuracy: 0.9132\n",
      "Epoch 71/100\n",
      "1563/1563 [==============================] - 18s 12ms/step - loss: 0.2508 - accuracy: 0.9153\n",
      "Epoch 72/100\n",
      "1563/1563 [==============================] - 18s 12ms/step - loss: 0.2532 - accuracy: 0.9144\n",
      "Epoch 73/100\n",
      "1563/1563 [==============================] - 18s 12ms/step - loss: 0.2544 - accuracy: 0.9137\n",
      "Epoch 74/100\n",
      "1563/1563 [==============================] - 18s 12ms/step - loss: 0.2520 - accuracy: 0.9150\n",
      "Epoch 75/100\n",
      "1563/1563 [==============================] - 18s 12ms/step - loss: 0.2493 - accuracy: 0.9165\n",
      "Epoch 76/100\n",
      "1563/1563 [==============================] - 18s 12ms/step - loss: 0.2521 - accuracy: 0.9145\n",
      "Epoch 77/100\n",
      "1563/1563 [==============================] - 18s 12ms/step - loss: 0.2433 - accuracy: 0.9180\n",
      "Epoch 78/100\n"
     ]
    },
    {
     "name": "stdout",
     "output_type": "stream",
     "text": [
      "1563/1563 [==============================] - 18s 12ms/step - loss: 0.2474 - accuracy: 0.9168\n",
      "Epoch 79/100\n",
      "1563/1563 [==============================] - 18s 12ms/step - loss: 0.2374 - accuracy: 0.9201\n",
      "Epoch 80/100\n",
      "1563/1563 [==============================] - 18s 12ms/step - loss: 0.2389 - accuracy: 0.9196\n",
      "Epoch 81/100\n",
      "1563/1563 [==============================] - 20s 13ms/step - loss: 0.2425 - accuracy: 0.9199\n",
      "Epoch 82/100\n",
      "1563/1563 [==============================] - 20s 12ms/step - loss: 0.2307 - accuracy: 0.9225\n",
      "Epoch 83/100\n",
      "1563/1563 [==============================] - 19s 12ms/step - loss: 0.2421 - accuracy: 0.9182\n",
      "Epoch 84/100\n",
      "1563/1563 [==============================] - 19s 12ms/step - loss: 0.2355 - accuracy: 0.9210\n",
      "Epoch 85/100\n",
      "1563/1563 [==============================] - 19s 12ms/step - loss: 0.2378 - accuracy: 0.9202\n",
      "Epoch 86/100\n",
      "1563/1563 [==============================] - 19s 12ms/step - loss: 0.2326 - accuracy: 0.9204\n",
      "Epoch 87/100\n",
      "1563/1563 [==============================] - 19s 12ms/step - loss: 0.2290 - accuracy: 0.9207\n",
      "Epoch 88/100\n",
      "1563/1563 [==============================] - 19s 12ms/step - loss: 0.2278 - accuracy: 0.9233\n",
      "Epoch 89/100\n",
      "1563/1563 [==============================] - 19s 12ms/step - loss: 0.2280 - accuracy: 0.9225\n",
      "Epoch 90/100\n",
      "1563/1563 [==============================] - 19s 12ms/step - loss: 0.2305 - accuracy: 0.9220\n",
      "Epoch 91/100\n",
      "1563/1563 [==============================] - 19s 12ms/step - loss: 0.2272 - accuracy: 0.9244\n",
      "Epoch 92/100\n",
      "1563/1563 [==============================] - 18s 12ms/step - loss: 0.2220 - accuracy: 0.9246\n",
      "Epoch 93/100\n",
      "1563/1563 [==============================] - 18s 12ms/step - loss: 0.2258 - accuracy: 0.9236\n",
      "Epoch 94/100\n",
      "1563/1563 [==============================] - 18s 12ms/step - loss: 0.2261 - accuracy: 0.9252\n",
      "Epoch 95/100\n",
      "1563/1563 [==============================] - 18s 12ms/step - loss: 0.2189 - accuracy: 0.9269\n",
      "Epoch 96/100\n",
      "1563/1563 [==============================] - 18s 11ms/step - loss: 0.2264 - accuracy: 0.9247\n",
      "Epoch 97/100\n",
      "1563/1563 [==============================] - 18s 12ms/step - loss: 0.2192 - accuracy: 0.9274\n",
      "Epoch 98/100\n",
      "1563/1563 [==============================] - 19s 12ms/step - loss: 0.2186 - accuracy: 0.9279\n",
      "Epoch 99/100\n",
      "1563/1563 [==============================] - 19s 12ms/step - loss: 0.2216 - accuracy: 0.9267\n",
      "Epoch 100/100\n",
      "1563/1563 [==============================] - 18s 11ms/step - loss: 0.2146 - accuracy: 0.9284\n"
     ]
    },
    {
     "data": {
      "text/plain": [
       "<keras.callbacks.History at 0x27f5a5b54f0>"
      ]
     },
     "execution_count": 18,
     "metadata": {},
     "output_type": "execute_result"
    }
   ],
   "source": [
    "model_drop = models.Sequential([\n",
    "    \n",
    "    layers.Conv2D(filters=32, kernel_size=(4, 4), padding='same', activation='relu', input_shape=(32, 32, 3)),\n",
    "    layers.MaxPooling2D((2, 2)),\n",
    "    \n",
    "    layers.Conv2D(filters=64, kernel_size=(4, 4), padding='same', activation='relu'),\n",
    "    layers.MaxPooling2D((2, 2)),\n",
    "    \n",
    "    layers.Flatten(),\n",
    "    layers.Dense(64, activation='relu'),\n",
    "    layers.Dropout(0.2),\n",
    "    layers.Dense(30, activation='relu'),\n",
    "    layers.Dropout(0.2),\n",
    "    layers.Dense(10, activation='softmax')\n",
    "])\n",
    "\n",
    "\n",
    "model_drop.compile(optimizer='adam',\n",
    "              loss='sparse_categorical_crossentropy',\n",
    "              metrics=['accuracy'])    \n",
    "\n",
    "model_drop.fit(X_train, y_train, epochs=100)"
   ]
  },
  {
   "cell_type": "code",
   "execution_count": 19,
   "id": "43c27196",
   "metadata": {},
   "outputs": [
    {
     "name": "stdout",
     "output_type": "stream",
     "text": [
      "313/313 [==============================] - 11s 5ms/step - loss: 1.9224 - accuracy: 0.7045\n"
     ]
    },
    {
     "data": {
      "text/plain": [
       "[1.9224051237106323, 0.7045000195503235]"
      ]
     },
     "execution_count": 19,
     "metadata": {},
     "output_type": "execute_result"
    }
   ],
   "source": [
    "model_drop.evaluate(X_test,y_test)"
   ]
  }
 ],
 "metadata": {
  "kernelspec": {
   "display_name": "Python 3 (ipykernel)",
   "language": "python",
   "name": "python3"
  },
  "language_info": {
   "codemirror_mode": {
    "name": "ipython",
    "version": 3
   },
   "file_extension": ".py",
   "mimetype": "text/x-python",
   "name": "python",
   "nbconvert_exporter": "python",
   "pygments_lexer": "ipython3",
   "version": "3.9.12"
  }
 },
 "nbformat": 4,
 "nbformat_minor": 5
}
