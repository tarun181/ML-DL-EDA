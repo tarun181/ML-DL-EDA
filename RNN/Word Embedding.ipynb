{
 "cells": [
  {
   "cell_type": "code",
   "execution_count": 1,
   "id": "5ff6cd39",
   "metadata": {},
   "outputs": [],
   "source": [
    "import numpy as np\n",
    "from tensorflow.keras.preprocessing.text import one_hot\n",
    "from tensorflow.keras.preprocessing.sequence import pad_sequences\n",
    "from tensorflow.keras.models import Sequential\n",
    "from tensorflow.keras.layers import Dense\n",
    "from tensorflow.keras.layers import Flatten\n",
    "from tensorflow.keras.layers import Embedding"
   ]
  },
  {
   "cell_type": "code",
   "execution_count": 2,
   "id": "01326fcb",
   "metadata": {},
   "outputs": [],
   "source": [
    "reviews = ['nice food',\n",
    "        'amazing restaurant',\n",
    "        'too good',\n",
    "        'just loved it!',\n",
    "        'will go again',\n",
    "        'horrible food',\n",
    "        'never go there',\n",
    "        'poor service',\n",
    "        'poor quality',\n",
    "        'needs improvement']\n",
    "\n",
    "sentiment = np.array([1,1,1,1,1,0,0,0,0,0])"
   ]
  },
  {
   "cell_type": "code",
   "execution_count": 3,
   "id": "d40da3b9",
   "metadata": {},
   "outputs": [
    {
     "data": {
      "text/plain": [
       "[7, 9]"
      ]
     },
     "execution_count": 3,
     "metadata": {},
     "output_type": "execute_result"
    }
   ],
   "source": [
    "one_hot('amazing restaurant',30)"
   ]
  },
  {
   "cell_type": "code",
   "execution_count": 4,
   "id": "47ac513e",
   "metadata": {},
   "outputs": [
    {
     "data": {
      "text/plain": [
       "[[13, 19],\n",
       " [7, 9],\n",
       " [21, 20],\n",
       " [2, 1, 2],\n",
       " [8, 3, 19],\n",
       " [2, 19],\n",
       " [4, 3, 12],\n",
       " [12, 14],\n",
       " [12, 16],\n",
       " [20, 19]]"
      ]
     },
     "execution_count": 4,
     "metadata": {},
     "output_type": "execute_result"
    }
   ],
   "source": [
    "vocab_size = 30\n",
    "encoded_reviews = [one_hot(d, vocab_size) for d in reviews]\n",
    "encoded_reviews"
   ]
  },
  {
   "cell_type": "code",
   "execution_count": 5,
   "id": "82629e93",
   "metadata": {},
   "outputs": [
    {
     "data": {
      "text/plain": [
       "array([[13, 19,  0,  0],\n",
       "       [ 7,  9,  0,  0],\n",
       "       [21, 20,  0,  0],\n",
       "       [ 2,  1,  2,  0],\n",
       "       [ 8,  3, 19,  0],\n",
       "       [ 2, 19,  0,  0],\n",
       "       [ 4,  3, 12,  0],\n",
       "       [12, 14,  0,  0],\n",
       "       [12, 16,  0,  0],\n",
       "       [20, 19,  0,  0]])"
      ]
     },
     "execution_count": 5,
     "metadata": {},
     "output_type": "execute_result"
    }
   ],
   "source": [
    "max_length = 4\n",
    "padded_reviews = pad_sequences(encoded_reviews, max_length, padding='post')\n",
    "padded_reviews"
   ]
  },
  {
   "cell_type": "code",
   "execution_count": 6,
   "id": "9206ca54",
   "metadata": {},
   "outputs": [],
   "source": [
    "embedded_vector_size = 5\n",
    "\n",
    "model = Sequential()\n",
    "model.add(Embedding(vocab_size, embedded_vector_size, input_length=max_length, name='embedding'))\n",
    "model.add(Flatten())\n",
    "model.add(Dense(1, activation='sigmoid'))"
   ]
  },
  {
   "cell_type": "code",
   "execution_count": 7,
   "id": "c9acdf64",
   "metadata": {},
   "outputs": [
    {
     "name": "stdout",
     "output_type": "stream",
     "text": [
      "Model: \"sequential\"\n",
      "_________________________________________________________________\n",
      " Layer (type)                Output Shape              Param #   \n",
      "=================================================================\n",
      " embedding (Embedding)       (None, 4, 5)              150       \n",
      "                                                                 \n",
      " flatten (Flatten)           (None, 20)                0         \n",
      "                                                                 \n",
      " dense (Dense)               (None, 1)                 21        \n",
      "                                                                 \n",
      "=================================================================\n",
      "Total params: 171\n",
      "Trainable params: 171\n",
      "Non-trainable params: 0\n",
      "_________________________________________________________________\n",
      "None\n"
     ]
    }
   ],
   "source": [
    "X = padded_reviews\n",
    "y = sentiment\n",
    "\n",
    "model.compile(optimizer='adam', loss='binary_crossentropy', metrics='accuracy')\n",
    "print(model.summary())"
   ]
  },
  {
   "cell_type": "code",
   "execution_count": 8,
   "id": "926e18b3",
   "metadata": {},
   "outputs": [
    {
     "data": {
      "text/plain": [
       "<keras.callbacks.History at 0x1e047862160>"
      ]
     },
     "execution_count": 8,
     "metadata": {},
     "output_type": "execute_result"
    }
   ],
   "source": [
    "model.fit(X, y, epochs=50, verbose=0)"
   ]
  },
  {
   "cell_type": "code",
   "execution_count": 9,
   "id": "419fc2da",
   "metadata": {},
   "outputs": [
    {
     "name": "stdout",
     "output_type": "stream",
     "text": [
      "1/1 [==============================] - 0s 256ms/step - loss: 0.6321 - accuracy: 1.0000\n"
     ]
    },
    {
     "data": {
      "text/plain": [
       "1.0"
      ]
     },
     "execution_count": 9,
     "metadata": {},
     "output_type": "execute_result"
    }
   ],
   "source": [
    "loss, accuracy = model.evaluate(X,y)\n",
    "accuracy"
   ]
  },
  {
   "cell_type": "code",
   "execution_count": 10,
   "id": "8ebfb795",
   "metadata": {},
   "outputs": [
    {
     "data": {
      "text/plain": [
       "30"
      ]
     },
     "execution_count": 10,
     "metadata": {},
     "output_type": "execute_result"
    }
   ],
   "source": [
    "weights = model.get_layer('embedding').get_weights()[0]\n",
    "len(weights)"
   ]
  },
  {
   "cell_type": "code",
   "execution_count": 11,
   "id": "b4069af4",
   "metadata": {},
   "outputs": [
    {
     "data": {
      "text/plain": [
       "array([ 0.10004383, -0.01283932,  0.0321239 , -0.03870998,  0.02186285],\n",
       "      dtype=float32)"
      ]
     },
     "execution_count": 11,
     "metadata": {},
     "output_type": "execute_result"
    }
   ],
   "source": [
    "weights[13]"
   ]
  },
  {
   "cell_type": "code",
   "execution_count": 14,
   "id": "2d17aae3",
   "metadata": {},
   "outputs": [
    {
     "data": {
      "text/plain": [
       "array([ 0.06159993, -0.01228595,  0.00520674, -0.07743152,  0.02087947],\n",
       "      dtype=float32)"
      ]
     },
     "execution_count": 14,
     "metadata": {},
     "output_type": "execute_result"
    }
   ],
   "source": [
    "weights[7]"
   ]
  },
  {
   "cell_type": "code",
   "execution_count": 15,
   "id": "961df831",
   "metadata": {},
   "outputs": [
    {
     "data": {
      "text/plain": [
       "array([ 0.05835028,  0.08949556, -0.08311538,  0.07013783,  0.02623826],\n",
       "      dtype=float32)"
      ]
     },
     "execution_count": 15,
     "metadata": {},
     "output_type": "execute_result"
    }
   ],
   "source": [
    "weights[2]"
   ]
  },
  {
   "cell_type": "code",
   "execution_count": 16,
   "id": "cc4fb116",
   "metadata": {},
   "outputs": [
    {
     "data": {
      "text/plain": [
       "array([-0.08116169,  0.03056022, -0.09331764,  0.06312554, -0.074068  ],\n",
       "      dtype=float32)"
      ]
     },
     "execution_count": 16,
     "metadata": {},
     "output_type": "execute_result"
    }
   ],
   "source": [
    "weights[12]"
   ]
  },
  {
   "cell_type": "code",
   "execution_count": null,
   "id": "eadd7532",
   "metadata": {},
   "outputs": [],
   "source": []
  }
 ],
 "metadata": {
  "kernelspec": {
   "display_name": "Python 3 (ipykernel)",
   "language": "python",
   "name": "python3"
  },
  "language_info": {
   "codemirror_mode": {
    "name": "ipython",
    "version": 3
   },
   "file_extension": ".py",
   "mimetype": "text/x-python",
   "name": "python",
   "nbconvert_exporter": "python",
   "pygments_lexer": "ipython3",
   "version": "3.9.7"
  }
 },
 "nbformat": 4,
 "nbformat_minor": 5
}
