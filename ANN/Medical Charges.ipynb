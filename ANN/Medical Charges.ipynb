{
 "cells": [
  {
   "cell_type": "code",
   "execution_count": 1,
   "id": "75adfb11",
   "metadata": {},
   "outputs": [],
   "source": [
    "import tensorflow as tf\n",
    "import pandas as pd\n",
    "import matplotlib.pyplot as plt\n",
    "%matplotlib inline"
   ]
  },
  {
   "cell_type": "code",
   "execution_count": 2,
   "id": "1591d219",
   "metadata": {},
   "outputs": [
    {
     "data": {
      "text/plain": [
       "'2.8.0'"
      ]
     },
     "execution_count": 2,
     "metadata": {},
     "output_type": "execute_result"
    }
   ],
   "source": [
    "tf.__version__"
   ]
  },
  {
   "cell_type": "code",
   "execution_count": 3,
   "id": "49deb8b8",
   "metadata": {},
   "outputs": [
    {
     "data": {
      "text/html": [
       "<div>\n",
       "<style scoped>\n",
       "    .dataframe tbody tr th:only-of-type {\n",
       "        vertical-align: middle;\n",
       "    }\n",
       "\n",
       "    .dataframe tbody tr th {\n",
       "        vertical-align: top;\n",
       "    }\n",
       "\n",
       "    .dataframe thead th {\n",
       "        text-align: right;\n",
       "    }\n",
       "</style>\n",
       "<table border=\"1\" class=\"dataframe\">\n",
       "  <thead>\n",
       "    <tr style=\"text-align: right;\">\n",
       "      <th></th>\n",
       "      <th>age</th>\n",
       "      <th>sex</th>\n",
       "      <th>bmi</th>\n",
       "      <th>children</th>\n",
       "      <th>smoker</th>\n",
       "      <th>region</th>\n",
       "      <th>charges</th>\n",
       "    </tr>\n",
       "  </thead>\n",
       "  <tbody>\n",
       "    <tr>\n",
       "      <th>0</th>\n",
       "      <td>19</td>\n",
       "      <td>female</td>\n",
       "      <td>27.900</td>\n",
       "      <td>0</td>\n",
       "      <td>yes</td>\n",
       "      <td>southwest</td>\n",
       "      <td>16884.92400</td>\n",
       "    </tr>\n",
       "    <tr>\n",
       "      <th>1</th>\n",
       "      <td>18</td>\n",
       "      <td>male</td>\n",
       "      <td>33.770</td>\n",
       "      <td>1</td>\n",
       "      <td>no</td>\n",
       "      <td>southeast</td>\n",
       "      <td>1725.55230</td>\n",
       "    </tr>\n",
       "    <tr>\n",
       "      <th>2</th>\n",
       "      <td>28</td>\n",
       "      <td>male</td>\n",
       "      <td>33.000</td>\n",
       "      <td>3</td>\n",
       "      <td>no</td>\n",
       "      <td>southeast</td>\n",
       "      <td>4449.46200</td>\n",
       "    </tr>\n",
       "    <tr>\n",
       "      <th>3</th>\n",
       "      <td>33</td>\n",
       "      <td>male</td>\n",
       "      <td>22.705</td>\n",
       "      <td>0</td>\n",
       "      <td>no</td>\n",
       "      <td>northwest</td>\n",
       "      <td>21984.47061</td>\n",
       "    </tr>\n",
       "    <tr>\n",
       "      <th>4</th>\n",
       "      <td>32</td>\n",
       "      <td>male</td>\n",
       "      <td>28.880</td>\n",
       "      <td>0</td>\n",
       "      <td>no</td>\n",
       "      <td>northwest</td>\n",
       "      <td>3866.85520</td>\n",
       "    </tr>\n",
       "  </tbody>\n",
       "</table>\n",
       "</div>"
      ],
      "text/plain": [
       "   age     sex     bmi  children smoker     region      charges\n",
       "0   19  female  27.900         0    yes  southwest  16884.92400\n",
       "1   18    male  33.770         1     no  southeast   1725.55230\n",
       "2   28    male  33.000         3     no  southeast   4449.46200\n",
       "3   33    male  22.705         0     no  northwest  21984.47061\n",
       "4   32    male  28.880         0     no  northwest   3866.85520"
      ]
     },
     "execution_count": 3,
     "metadata": {},
     "output_type": "execute_result"
    }
   ],
   "source": [
    "df = pd.read_csv(\"https://raw.githubusercontent.com/stedy/Machine-Learning-with-R-datasets/master/insurance.csv\")\n",
    "df.head()"
   ]
  },
  {
   "cell_type": "code",
   "execution_count": 4,
   "id": "535f5a9a",
   "metadata": {},
   "outputs": [
    {
     "name": "stdout",
     "output_type": "stream",
     "text": [
      "<class 'pandas.core.frame.DataFrame'>\n",
      "RangeIndex: 1338 entries, 0 to 1337\n",
      "Data columns (total 7 columns):\n",
      " #   Column    Non-Null Count  Dtype  \n",
      "---  ------    --------------  -----  \n",
      " 0   age       1338 non-null   int64  \n",
      " 1   sex       1338 non-null   object \n",
      " 2   bmi       1338 non-null   float64\n",
      " 3   children  1338 non-null   int64  \n",
      " 4   smoker    1338 non-null   object \n",
      " 5   region    1338 non-null   object \n",
      " 6   charges   1338 non-null   float64\n",
      "dtypes: float64(2), int64(2), object(3)\n",
      "memory usage: 73.3+ KB\n"
     ]
    }
   ],
   "source": [
    "df.info()"
   ]
  },
  {
   "cell_type": "code",
   "execution_count": 5,
   "id": "e5851df1",
   "metadata": {},
   "outputs": [
    {
     "data": {
      "text/plain": [
       "array(['southwest', 'southeast', 'northwest', 'northeast'], dtype=object)"
      ]
     },
     "execution_count": 5,
     "metadata": {},
     "output_type": "execute_result"
    }
   ],
   "source": [
    "df.region.unique()"
   ]
  },
  {
   "cell_type": "code",
   "execution_count": 6,
   "id": "a7072134",
   "metadata": {},
   "outputs": [
    {
     "data": {
      "text/html": [
       "<div>\n",
       "<style scoped>\n",
       "    .dataframe tbody tr th:only-of-type {\n",
       "        vertical-align: middle;\n",
       "    }\n",
       "\n",
       "    .dataframe tbody tr th {\n",
       "        vertical-align: top;\n",
       "    }\n",
       "\n",
       "    .dataframe thead th {\n",
       "        text-align: right;\n",
       "    }\n",
       "</style>\n",
       "<table border=\"1\" class=\"dataframe\">\n",
       "  <thead>\n",
       "    <tr style=\"text-align: right;\">\n",
       "      <th></th>\n",
       "      <th>age</th>\n",
       "      <th>bmi</th>\n",
       "      <th>children</th>\n",
       "      <th>charges</th>\n",
       "      <th>sex_male</th>\n",
       "      <th>smoker_yes</th>\n",
       "      <th>region_northwest</th>\n",
       "      <th>region_southeast</th>\n",
       "      <th>region_southwest</th>\n",
       "    </tr>\n",
       "  </thead>\n",
       "  <tbody>\n",
       "    <tr>\n",
       "      <th>0</th>\n",
       "      <td>19</td>\n",
       "      <td>27.900</td>\n",
       "      <td>0</td>\n",
       "      <td>16884.92400</td>\n",
       "      <td>0</td>\n",
       "      <td>1</td>\n",
       "      <td>0</td>\n",
       "      <td>0</td>\n",
       "      <td>1</td>\n",
       "    </tr>\n",
       "    <tr>\n",
       "      <th>1</th>\n",
       "      <td>18</td>\n",
       "      <td>33.770</td>\n",
       "      <td>1</td>\n",
       "      <td>1725.55230</td>\n",
       "      <td>1</td>\n",
       "      <td>0</td>\n",
       "      <td>0</td>\n",
       "      <td>1</td>\n",
       "      <td>0</td>\n",
       "    </tr>\n",
       "    <tr>\n",
       "      <th>2</th>\n",
       "      <td>28</td>\n",
       "      <td>33.000</td>\n",
       "      <td>3</td>\n",
       "      <td>4449.46200</td>\n",
       "      <td>1</td>\n",
       "      <td>0</td>\n",
       "      <td>0</td>\n",
       "      <td>1</td>\n",
       "      <td>0</td>\n",
       "    </tr>\n",
       "    <tr>\n",
       "      <th>3</th>\n",
       "      <td>33</td>\n",
       "      <td>22.705</td>\n",
       "      <td>0</td>\n",
       "      <td>21984.47061</td>\n",
       "      <td>1</td>\n",
       "      <td>0</td>\n",
       "      <td>1</td>\n",
       "      <td>0</td>\n",
       "      <td>0</td>\n",
       "    </tr>\n",
       "    <tr>\n",
       "      <th>4</th>\n",
       "      <td>32</td>\n",
       "      <td>28.880</td>\n",
       "      <td>0</td>\n",
       "      <td>3866.85520</td>\n",
       "      <td>1</td>\n",
       "      <td>0</td>\n",
       "      <td>1</td>\n",
       "      <td>0</td>\n",
       "      <td>0</td>\n",
       "    </tr>\n",
       "    <tr>\n",
       "      <th>...</th>\n",
       "      <td>...</td>\n",
       "      <td>...</td>\n",
       "      <td>...</td>\n",
       "      <td>...</td>\n",
       "      <td>...</td>\n",
       "      <td>...</td>\n",
       "      <td>...</td>\n",
       "      <td>...</td>\n",
       "      <td>...</td>\n",
       "    </tr>\n",
       "    <tr>\n",
       "      <th>1333</th>\n",
       "      <td>50</td>\n",
       "      <td>30.970</td>\n",
       "      <td>3</td>\n",
       "      <td>10600.54830</td>\n",
       "      <td>1</td>\n",
       "      <td>0</td>\n",
       "      <td>1</td>\n",
       "      <td>0</td>\n",
       "      <td>0</td>\n",
       "    </tr>\n",
       "    <tr>\n",
       "      <th>1334</th>\n",
       "      <td>18</td>\n",
       "      <td>31.920</td>\n",
       "      <td>0</td>\n",
       "      <td>2205.98080</td>\n",
       "      <td>0</td>\n",
       "      <td>0</td>\n",
       "      <td>0</td>\n",
       "      <td>0</td>\n",
       "      <td>0</td>\n",
       "    </tr>\n",
       "    <tr>\n",
       "      <th>1335</th>\n",
       "      <td>18</td>\n",
       "      <td>36.850</td>\n",
       "      <td>0</td>\n",
       "      <td>1629.83350</td>\n",
       "      <td>0</td>\n",
       "      <td>0</td>\n",
       "      <td>0</td>\n",
       "      <td>1</td>\n",
       "      <td>0</td>\n",
       "    </tr>\n",
       "    <tr>\n",
       "      <th>1336</th>\n",
       "      <td>21</td>\n",
       "      <td>25.800</td>\n",
       "      <td>0</td>\n",
       "      <td>2007.94500</td>\n",
       "      <td>0</td>\n",
       "      <td>0</td>\n",
       "      <td>0</td>\n",
       "      <td>0</td>\n",
       "      <td>1</td>\n",
       "    </tr>\n",
       "    <tr>\n",
       "      <th>1337</th>\n",
       "      <td>61</td>\n",
       "      <td>29.070</td>\n",
       "      <td>0</td>\n",
       "      <td>29141.36030</td>\n",
       "      <td>0</td>\n",
       "      <td>1</td>\n",
       "      <td>1</td>\n",
       "      <td>0</td>\n",
       "      <td>0</td>\n",
       "    </tr>\n",
       "  </tbody>\n",
       "</table>\n",
       "<p>1338 rows × 9 columns</p>\n",
       "</div>"
      ],
      "text/plain": [
       "      age     bmi  children      charges  sex_male  smoker_yes  \\\n",
       "0      19  27.900         0  16884.92400         0           1   \n",
       "1      18  33.770         1   1725.55230         1           0   \n",
       "2      28  33.000         3   4449.46200         1           0   \n",
       "3      33  22.705         0  21984.47061         1           0   \n",
       "4      32  28.880         0   3866.85520         1           0   \n",
       "...   ...     ...       ...          ...       ...         ...   \n",
       "1333   50  30.970         3  10600.54830         1           0   \n",
       "1334   18  31.920         0   2205.98080         0           0   \n",
       "1335   18  36.850         0   1629.83350         0           0   \n",
       "1336   21  25.800         0   2007.94500         0           0   \n",
       "1337   61  29.070         0  29141.36030         0           1   \n",
       "\n",
       "      region_northwest  region_southeast  region_southwest  \n",
       "0                    0                 0                 1  \n",
       "1                    0                 1                 0  \n",
       "2                    0                 1                 0  \n",
       "3                    1                 0                 0  \n",
       "4                    1                 0                 0  \n",
       "...                ...               ...               ...  \n",
       "1333                 1                 0                 0  \n",
       "1334                 0                 0                 0  \n",
       "1335                 0                 1                 0  \n",
       "1336                 0                 0                 1  \n",
       "1337                 1                 0                 0  \n",
       "\n",
       "[1338 rows x 9 columns]"
      ]
     },
     "execution_count": 6,
     "metadata": {},
     "output_type": "execute_result"
    }
   ],
   "source": [
    "df = pd.get_dummies(df,drop_first=True)\n",
    "df"
   ]
  },
  {
   "cell_type": "code",
   "execution_count": 7,
   "id": "306f7dbb",
   "metadata": {},
   "outputs": [],
   "source": [
    "from sklearn.model_selection import train_test_split"
   ]
  },
  {
   "cell_type": "code",
   "execution_count": 8,
   "id": "9fa966f5",
   "metadata": {},
   "outputs": [
    {
     "data": {
      "text/plain": [
       "(1070, 268, 1070, 268)"
      ]
     },
     "execution_count": 8,
     "metadata": {},
     "output_type": "execute_result"
    }
   ],
   "source": [
    "X_train, X_test, y_train, y_test = train_test_split(df.drop('charges',axis=1), df['charges'], test_size=0.2, random_state=10)\n",
    "len(X_train), len(X_test), len(y_train), len(y_test)"
   ]
  },
  {
   "cell_type": "code",
   "execution_count": 9,
   "id": "a932916f",
   "metadata": {},
   "outputs": [],
   "source": [
    "from tensorflow.keras import Sequential\n",
    "from tensorflow.keras.layers import Dense"
   ]
  },
  {
   "cell_type": "code",
   "execution_count": 14,
   "id": "43471384",
   "metadata": {},
   "outputs": [],
   "source": [
    "model = Sequential()\n",
    "\n",
    "model.add(Dense(9,activation='relu'))\n",
    "\n",
    "model.add(Dense(15,activation='relu'))\n",
    "\n",
    "model.add(Dense(8,activation='relu'))\n",
    "\n",
    "model.add(Dense(1))\n",
    "\n",
    "model.compile(optimizer=tf.keras.optimizers.Adam(learning_rate=.06),loss='mae')"
   ]
  },
  {
   "cell_type": "code",
   "execution_count": 15,
   "id": "3943547f",
   "metadata": {
    "scrolled": true
   },
   "outputs": [
    {
     "name": "stdout",
     "output_type": "stream",
     "text": [
      "Epoch 1/100\n",
      "34/34 [==============================] - 0s 3ms/step - loss: 9793.9082\n",
      "Epoch 2/100\n",
      "34/34 [==============================] - 0s 3ms/step - loss: 7241.8472\n",
      "Epoch 3/100\n",
      "34/34 [==============================] - 0s 3ms/step - loss: 6745.8564\n",
      "Epoch 4/100\n",
      "34/34 [==============================] - 0s 3ms/step - loss: 6505.8315\n",
      "Epoch 5/100\n",
      "34/34 [==============================] - 0s 3ms/step - loss: 6366.5332\n",
      "Epoch 6/100\n",
      "34/34 [==============================] - 0s 3ms/step - loss: 6074.4727\n",
      "Epoch 7/100\n",
      "34/34 [==============================] - 0s 3ms/step - loss: 5740.9644\n",
      "Epoch 8/100\n",
      "34/34 [==============================] - 0s 3ms/step - loss: 5012.1885\n",
      "Epoch 9/100\n",
      "34/34 [==============================] - 0s 3ms/step - loss: 4210.2935\n",
      "Epoch 10/100\n",
      "34/34 [==============================] - 0s 3ms/step - loss: 3802.1853\n",
      "Epoch 11/100\n",
      "34/34 [==============================] - 0s 3ms/step - loss: 3502.7300\n",
      "Epoch 12/100\n",
      "34/34 [==============================] - 0s 3ms/step - loss: 3343.0442\n",
      "Epoch 13/100\n",
      "34/34 [==============================] - 0s 3ms/step - loss: 3401.4109\n",
      "Epoch 14/100\n",
      "34/34 [==============================] - 0s 2ms/step - loss: 3494.7190\n",
      "Epoch 15/100\n",
      "34/34 [==============================] - 0s 2ms/step - loss: 3387.4932\n",
      "Epoch 16/100\n",
      "34/34 [==============================] - 0s 3ms/step - loss: 3371.3748\n",
      "Epoch 17/100\n",
      "34/34 [==============================] - 0s 3ms/step - loss: 3272.7485\n",
      "Epoch 18/100\n",
      "34/34 [==============================] - 0s 3ms/step - loss: 3279.5940\n",
      "Epoch 19/100\n",
      "34/34 [==============================] - 0s 3ms/step - loss: 3232.9062\n",
      "Epoch 20/100\n",
      "34/34 [==============================] - 0s 3ms/step - loss: 3110.4543\n",
      "Epoch 21/100\n",
      "34/34 [==============================] - 0s 3ms/step - loss: 3161.9587\n",
      "Epoch 22/100\n",
      "34/34 [==============================] - 0s 2ms/step - loss: 3232.6047\n",
      "Epoch 23/100\n",
      "34/34 [==============================] - 0s 3ms/step - loss: 3040.9321\n",
      "Epoch 24/100\n",
      "34/34 [==============================] - 0s 3ms/step - loss: 3000.8835\n",
      "Epoch 25/100\n",
      "34/34 [==============================] - 0s 3ms/step - loss: 3045.1223\n",
      "Epoch 26/100\n",
      "34/34 [==============================] - 0s 2ms/step - loss: 3140.0813\n",
      "Epoch 27/100\n",
      "34/34 [==============================] - 0s 3ms/step - loss: 2962.4219\n",
      "Epoch 28/100\n",
      "34/34 [==============================] - 0s 3ms/step - loss: 3162.9250\n",
      "Epoch 29/100\n",
      "34/34 [==============================] - 0s 3ms/step - loss: 3006.7224\n",
      "Epoch 30/100\n",
      "34/34 [==============================] - 0s 3ms/step - loss: 3047.5391\n",
      "Epoch 31/100\n",
      "34/34 [==============================] - 0s 3ms/step - loss: 2977.3276\n",
      "Epoch 32/100\n",
      "34/34 [==============================] - 0s 3ms/step - loss: 2906.5520\n",
      "Epoch 33/100\n",
      "34/34 [==============================] - 0s 3ms/step - loss: 3134.0112\n",
      "Epoch 34/100\n",
      "34/34 [==============================] - 0s 3ms/step - loss: 3160.9207\n",
      "Epoch 35/100\n",
      "34/34 [==============================] - 0s 3ms/step - loss: 3004.3254\n",
      "Epoch 36/100\n",
      "34/34 [==============================] - 0s 3ms/step - loss: 2855.8916\n",
      "Epoch 37/100\n",
      "34/34 [==============================] - 0s 3ms/step - loss: 2759.8721\n",
      "Epoch 38/100\n",
      "34/34 [==============================] - 0s 4ms/step - loss: 2809.9172\n",
      "Epoch 39/100\n",
      "34/34 [==============================] - 0s 3ms/step - loss: 2775.1292\n",
      "Epoch 40/100\n",
      "34/34 [==============================] - 0s 4ms/step - loss: 2727.2339\n",
      "Epoch 41/100\n",
      "34/34 [==============================] - 0s 3ms/step - loss: 2799.3069\n",
      "Epoch 42/100\n",
      "34/34 [==============================] - 0s 3ms/step - loss: 2786.5256\n",
      "Epoch 43/100\n",
      "34/34 [==============================] - 0s 3ms/step - loss: 2694.4792\n",
      "Epoch 44/100\n",
      "34/34 [==============================] - 0s 3ms/step - loss: 2736.3662\n",
      "Epoch 45/100\n",
      "34/34 [==============================] - 0s 2ms/step - loss: 3069.6372\n",
      "Epoch 46/100\n",
      "34/34 [==============================] - 0s 3ms/step - loss: 2627.4331\n",
      "Epoch 47/100\n",
      "34/34 [==============================] - 0s 3ms/step - loss: 2747.8381\n",
      "Epoch 48/100\n",
      "34/34 [==============================] - 0s 3ms/step - loss: 2614.6848\n",
      "Epoch 49/100\n",
      "34/34 [==============================] - 0s 3ms/step - loss: 2696.4014\n",
      "Epoch 50/100\n",
      "34/34 [==============================] - 0s 4ms/step - loss: 2612.8762\n",
      "Epoch 51/100\n",
      "34/34 [==============================] - 0s 3ms/step - loss: 2565.0583\n",
      "Epoch 52/100\n",
      "34/34 [==============================] - 0s 3ms/step - loss: 2703.4324\n",
      "Epoch 53/100\n",
      "34/34 [==============================] - 0s 3ms/step - loss: 2653.8665\n",
      "Epoch 54/100\n",
      "34/34 [==============================] - 0s 3ms/step - loss: 2471.6401\n",
      "Epoch 55/100\n",
      "34/34 [==============================] - 0s 3ms/step - loss: 2609.0105\n",
      "Epoch 56/100\n",
      "34/34 [==============================] - 0s 3ms/step - loss: 2465.4719\n",
      "Epoch 57/100\n",
      "34/34 [==============================] - 0s 3ms/step - loss: 2519.6963\n",
      "Epoch 58/100\n",
      "34/34 [==============================] - 0s 3ms/step - loss: 2718.3633\n",
      "Epoch 59/100\n",
      "34/34 [==============================] - 0s 2ms/step - loss: 2795.4187\n",
      "Epoch 60/100\n",
      "34/34 [==============================] - 0s 3ms/step - loss: 2651.3357\n",
      "Epoch 61/100\n",
      "34/34 [==============================] - 0s 2ms/step - loss: 2611.7668\n",
      "Epoch 62/100\n",
      "34/34 [==============================] - 0s 3ms/step - loss: 2412.7476\n",
      "Epoch 63/100\n",
      "34/34 [==============================] - 0s 3ms/step - loss: 2335.0054\n",
      "Epoch 64/100\n",
      "34/34 [==============================] - 0s 3ms/step - loss: 2357.1379\n",
      "Epoch 65/100\n",
      "34/34 [==============================] - 0s 3ms/step - loss: 2210.5093\n",
      "Epoch 66/100\n",
      "34/34 [==============================] - 0s 3ms/step - loss: 2441.5798\n",
      "Epoch 67/100\n",
      "34/34 [==============================] - 0s 3ms/step - loss: 2824.5029\n",
      "Epoch 68/100\n",
      "34/34 [==============================] - 0s 3ms/step - loss: 2333.7612\n",
      "Epoch 69/100\n",
      "34/34 [==============================] - 0s 3ms/step - loss: 2323.7556\n",
      "Epoch 70/100\n",
      "34/34 [==============================] - 0s 3ms/step - loss: 2428.9407\n",
      "Epoch 71/100\n",
      "34/34 [==============================] - 0s 3ms/step - loss: 2240.6470\n",
      "Epoch 72/100\n",
      "34/34 [==============================] - 0s 3ms/step - loss: 2228.9707\n",
      "Epoch 73/100\n",
      "34/34 [==============================] - 0s 3ms/step - loss: 2275.5981\n",
      "Epoch 74/100\n",
      "34/34 [==============================] - 0s 4ms/step - loss: 2334.6179\n",
      "Epoch 75/100\n",
      "34/34 [==============================] - 0s 3ms/step - loss: 2449.8362\n",
      "Epoch 76/100\n",
      "34/34 [==============================] - 0s 3ms/step - loss: 2439.1262\n",
      "Epoch 77/100\n",
      "34/34 [==============================] - 0s 3ms/step - loss: 2258.0410\n",
      "Epoch 78/100\n",
      "34/34 [==============================] - 0s 3ms/step - loss: 2222.3855\n",
      "Epoch 79/100\n",
      "34/34 [==============================] - 0s 3ms/step - loss: 2408.4016\n",
      "Epoch 80/100\n",
      "34/34 [==============================] - 0s 3ms/step - loss: 2821.8804\n",
      "Epoch 81/100\n",
      "34/34 [==============================] - 0s 4ms/step - loss: 2924.0137\n",
      "Epoch 82/100\n",
      "34/34 [==============================] - 0s 3ms/step - loss: 2490.1528\n",
      "Epoch 83/100\n",
      "34/34 [==============================] - 0s 3ms/step - loss: 2335.6736\n",
      "Epoch 84/100\n",
      "34/34 [==============================] - 0s 3ms/step - loss: 2170.8374\n",
      "Epoch 85/100\n",
      "34/34 [==============================] - 0s 3ms/step - loss: 2345.9700\n",
      "Epoch 86/100\n",
      "34/34 [==============================] - 0s 3ms/step - loss: 2293.1604\n",
      "Epoch 87/100\n",
      "34/34 [==============================] - 0s 3ms/step - loss: 2231.6968\n",
      "Epoch 88/100\n",
      "34/34 [==============================] - 0s 3ms/step - loss: 2179.9087\n",
      "Epoch 89/100\n",
      "34/34 [==============================] - 0s 2ms/step - loss: 2344.5735\n",
      "Epoch 90/100\n",
      "34/34 [==============================] - 0s 3ms/step - loss: 2355.2471\n",
      "Epoch 91/100\n",
      "34/34 [==============================] - 0s 3ms/step - loss: 2346.3687\n",
      "Epoch 92/100\n",
      "34/34 [==============================] - 0s 3ms/step - loss: 2126.4863\n",
      "Epoch 93/100\n",
      "34/34 [==============================] - 0s 3ms/step - loss: 2092.8306\n",
      "Epoch 94/100\n",
      "34/34 [==============================] - 0s 3ms/step - loss: 2273.4641\n",
      "Epoch 95/100\n",
      "34/34 [==============================] - 0s 3ms/step - loss: 2331.9556\n",
      "Epoch 96/100\n",
      "34/34 [==============================] - 0s 3ms/step - loss: 2429.2480\n",
      "Epoch 97/100\n",
      "34/34 [==============================] - 0s 3ms/step - loss: 2519.0244\n",
      "Epoch 98/100\n"
     ]
    },
    {
     "name": "stdout",
     "output_type": "stream",
     "text": [
      "34/34 [==============================] - 0s 3ms/step - loss: 2166.0811\n",
      "Epoch 99/100\n",
      "34/34 [==============================] - 0s 3ms/step - loss: 2399.5273\n",
      "Epoch 100/100\n",
      "34/34 [==============================] - 0s 3ms/step - loss: 2200.2314\n"
     ]
    }
   ],
   "source": [
    "history = model.fit(X_train,y_train,epochs=100)"
   ]
  },
  {
   "cell_type": "code",
   "execution_count": 16,
   "id": "e1ccea73",
   "metadata": {
    "scrolled": true
   },
   "outputs": [
    {
     "name": "stdout",
     "output_type": "stream",
     "text": [
      "9/9 [==============================] - 0s 2ms/step - loss: 2601.8926\n"
     ]
    },
    {
     "data": {
      "text/plain": [
       "2601.892578125"
      ]
     },
     "execution_count": 16,
     "metadata": {},
     "output_type": "execute_result"
    }
   ],
   "source": [
    "model.evaluate(X_test,y_test)"
   ]
  },
  {
   "cell_type": "code",
   "execution_count": 19,
   "id": "ba7c457e",
   "metadata": {},
   "outputs": [
    {
     "data": {
      "text/plain": [
       "Text(0, 0.5, 'loss')"
      ]
     },
     "execution_count": 19,
     "metadata": {},
     "output_type": "execute_result"
    },
    {
     "data": {
      "image/png": "[encoded data removed]",
      "text/plain": [
       "<Figure size 432x288 with 1 Axes>"
      ]
     },
     "metadata": {
      "needs_background": "light"
     },
     "output_type": "display_data"
    }
   ],
   "source": [
    "pd.DataFrame(history.history).plot()\n",
    "plt.xlabel('epochs')\n",
    "plt.ylabel('loss')"
   ]
  },
  {
   "cell_type": "code",
   "execution_count": null,
   "id": "4439bb2f",
   "metadata": {},
   "outputs": [],
   "source": []
  }
 ],
 "metadata": {
  "kernelspec": {
   "display_name": "Python 3 (ipykernel)",
   "language": "python",
   "name": "python3"
  },
  "language_info": {
   "codemirror_mode": {
    "name": "ipython",
    "version": 3
   },
   "file_extension": ".py",
   "mimetype": "text/x-python",
   "name": "python",
   "nbconvert_exporter": "python",
   "pygments_lexer": "ipython3",
   "version": "3.9.12"
  }
 },
 "nbformat": 4,
 "nbformat_minor": 5
}
